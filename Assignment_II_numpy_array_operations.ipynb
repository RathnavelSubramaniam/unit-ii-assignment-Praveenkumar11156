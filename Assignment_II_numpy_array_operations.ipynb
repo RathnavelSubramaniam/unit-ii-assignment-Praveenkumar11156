{
  "cells": [
    {
      "cell_type": "markdown",
      "metadata": {
        "id": "x29XguhmGR9W"
      },
      "source": [
        "> ### **Assignment 2 - Numpy Array Operations** \n",
        ">\n",
        "\n",
        "\n",
        "Write a short introduction about Numpy and list the chosen functions. \n",
        "\n",
        "function1 = np.append \n",
        "\n",
        "function2 = np.average\n",
        "\n",
        "function3 = np.arange\n",
        "\n",
        "function4 = np.squeeze\n",
        "\n",
        "function5 = np.vstack\n",
        "\n",
        "\n"
      ]
    },
    {
      "cell_type": "code",
      "execution_count": 33,
      "metadata": {
        "id": "GYSxXBl6GR9c"
      },
      "outputs": [],
      "source": [
        "import numpy as np"
      ]
    },
    {
      "cell_type": "markdown",
      "metadata": {
        "id": "034D7-ScGR9e"
      },
      "source": [
        "## Function 1 - np.append\n",
        "np.append function add elements to the end of an array provided that the dimensions of the elements should be same."
      ]
    },
    {
      "cell_type": "code",
      "execution_count": 34,
      "metadata": {
        "colab": {
          "base_uri": "https://localhost:8080/"
        },
        "id": "6nQ1kfwAGR9e",
        "outputId": "56e9aed0-46b7-4488-873f-1114c295b292"
      },
      "outputs": [
        {
          "data": {
            "text/plain": [
              "array([ 1,  2,  1, 25, 26, 24, 23, 15])"
            ]
          },
          "execution_count": 34,
          "metadata": {},
          "output_type": "execute_result"
        }
      ],
      "source": [
        "# Example 1 - working (change this)\n",
        "arr1 = [1, 2, 1, 25, 26]\n",
        "np.append(arr1, [24, 23, 15])\n"
      ]
    },
    {
      "cell_type": "markdown",
      "metadata": {
        "id": "A-NpwrlcGR9f"
      },
      "source": [
        "We can put lists as an element inside the array, then append it with the expected lists or any element regardless of their size.\n",
        "\n"
      ]
    },
    {
      "cell_type": "code",
      "execution_count": 35,
      "metadata": {
        "id": "exvS7CpeGR9f"
      },
      "outputs": [
        {
          "data": {
            "text/plain": [
              "array([ 2,  4,  5,  6,  7,  8, 10, 12, 13, 14])"
            ]
          },
          "execution_count": 35,
          "metadata": {},
          "output_type": "execute_result"
        }
      ],
      "source": [
        "# Example 2 - working\n",
        "arr2 = [[2, 4, 5], [6, 7, 8]]\n",
        "np.append(arr2, [10, 12])\n",
        "np.append(arr2, [10, 12, 13, 14])"
      ]
    },
    {
      "cell_type": "markdown",
      "metadata": {
        "id": "IPHUMw0KGR9f"
      },
      "source": [
        "When axis is specified, arrays must have the same shape."
      ]
    },
    {
      "cell_type": "code",
      "execution_count": 36,
      "metadata": {
        "colab": {
          "base_uri": "https://localhost:8080/",
          "height": 391
        },
        "id": "HH6f3hRzGR9g",
        "outputId": "3ab7627f-0ba3-4bd1-9b23-e49978d2e912"
      },
      "outputs": [
        {
          "data": {
            "text/plain": [
              "array([[ 2,  4,  5],\n",
              "       [ 6,  7,  8],\n",
              "       [14, 15, 16]])"
            ]
          },
          "execution_count": 36,
          "metadata": {},
          "output_type": "execute_result"
        }
      ],
      "source": [
        "# Example 3 - breaking (to illustrate when it breaks)\n",
        "arr3 = [[2, 4, 5], [6, 7, 8]]\n",
        "np.append(arr3, [[14, 15, 16]], axis = 0)"
      ]
    },
    {
      "cell_type": "markdown",
      "metadata": {
        "id": "SqYu4BnzGR9g"
      },
      "source": [
        "ValueError: all the input arrays must have same number of dimensions, but the array at index 0 has 2 dimension(s) and the array at index 1 has 1 dimension(s)"
      ]
    },
    {
      "cell_type": "markdown",
      "metadata": {
        "id": "MHiRxmcWGR9g"
      },
      "source": [
        "Some closing comments about when to use this function."
      ]
    },
    {
      "cell_type": "code",
      "execution_count": 37,
      "metadata": {
        "colab": {
          "base_uri": "https://localhost:8080/"
        },
        "id": "sU-Nzxl1GR9g",
        "outputId": "1c3ef55e-f3ff-4b4b-a147-f88630f0f538"
      },
      "outputs": [
        {
          "data": {
            "text/plain": [
              "array([[ 2,  4,  5],\n",
              "       [ 6,  7,  8],\n",
              "       [14, 15, 16],\n",
              "       [12, 15, 16]])"
            ]
          },
          "execution_count": 37,
          "metadata": {},
          "output_type": "execute_result"
        }
      ],
      "source": [
        "# Fix\n",
        "arr3 = [[2, 4, 5], [6, 7, 8]]\n",
        "np.append(arr3, [[14, 15, 16], [12, 15, 16]], axis = 0)"
      ]
    },
    {
      "cell_type": "markdown",
      "metadata": {
        "id": "b_J9H7dLSHL_"
      },
      "source": [
        "In arr3, index 0 has 2 dimensions, while the element to be appended has 1 dimension, thus breaks down. To fix this, the element to be appended should have 2 dimensions as well."
      ]
    },
    {
      "cell_type": "markdown",
      "metadata": {
        "id": "UHBZ3gjCGR9h"
      },
      "source": [
        "## Function 2 - average()\n",
        "\n",
        "Add some explanations"
      ]
    },
    {
      "cell_type": "code",
      "execution_count": 38,
      "metadata": {},
      "outputs": [],
      "source": [
        "#average() function is to calculate mean values across dimensions in an array. \n",
        "# It will return the average of a numpy array of all values along the given axis"
      ]
    },
    {
      "cell_type": "code",
      "execution_count": 39,
      "metadata": {
        "id": "UQlGO4oQGR9h"
      },
      "outputs": [
        {
          "data": {
            "text/plain": [
              "4.111111111111111"
            ]
          },
          "execution_count": 39,
          "metadata": {},
          "output_type": "execute_result"
        }
      ],
      "source": [
        "# Example 1 - working\n",
        "arr10 = [[5,2,6], [8,5,1], [3,6,1]]\n",
        "np.average(arr10)"
      ]
    },
    {
      "cell_type": "markdown",
      "metadata": {
        "id": "Ucbc8pbZGR9h"
      },
      "source": [
        "Explanation about example"
      ]
    },
    {
      "cell_type": "code",
      "execution_count": 40,
      "metadata": {
        "id": "bTedO6EWGR9h"
      },
      "outputs": [
        {
          "data": {
            "text/plain": [
              "15.0"
            ]
          },
          "execution_count": 40,
          "metadata": {},
          "output_type": "execute_result"
        }
      ],
      "source": [
        "# Example 2 - working\n",
        "arr13 = [15,10,25,20,5]\n",
        "np.average(arr13)"
      ]
    },
    {
      "cell_type": "markdown",
      "metadata": {
        "id": "euO2FPnpGR9i"
      },
      "source": [
        "Explanation about example"
      ]
    },
    {
      "cell_type": "code",
      "execution_count": 41,
      "metadata": {
        "id": "sMjeLEX2GR9i"
      },
      "outputs": [
        {
          "ename": "TypeError",
          "evalue": "_average_dispatcher() got multiple values for argument 'axis'",
          "output_type": "error",
          "traceback": [
            "\u001b[1;31m---------------------------------------------------------------------------\u001b[0m",
            "\u001b[1;31mTypeError\u001b[0m                                 Traceback (most recent call last)",
            "\u001b[1;32mg:\\PG\\Python\\unit-ii-assignment-Praveenkumar11156\\Assignment_II_numpy_array_operations.ipynb Cell 19'\u001b[0m in \u001b[0;36m<cell line: 3>\u001b[1;34m()\u001b[0m\n\u001b[0;32m      <a href='vscode-notebook-cell:/g%3A/PG/Python/unit-ii-assignment-Praveenkumar11156/Assignment_II_numpy_array_operations.ipynb#ch0000019?line=0'>1</a>\u001b[0m \u001b[39m# Example 3 - breaking (to illustrate when it breaks)\u001b[39;00m\n\u001b[0;32m      <a href='vscode-notebook-cell:/g%3A/PG/Python/unit-ii-assignment-Praveenkumar11156/Assignment_II_numpy_array_operations.ipynb#ch0000019?line=1'>2</a>\u001b[0m sample \u001b[39m=\u001b[39m [\u001b[39m-\u001b[39m\u001b[39m21\u001b[39m,\u001b[39m12\u001b[39m,\u001b[39m9\u001b[39m,\u001b[39m4\u001b[39m]\n\u001b[1;32m----> <a href='vscode-notebook-cell:/g%3A/PG/Python/unit-ii-assignment-Praveenkumar11156/Assignment_II_numpy_array_operations.ipynb#ch0000019?line=2'>3</a>\u001b[0m np\u001b[39m.\u001b[39;49maverage(sample,[\u001b[39m5\u001b[39;49m,\u001b[39m3\u001b[39;49m,\u001b[39m6\u001b[39;49m,\u001b[39m14\u001b[39;49m], axis\u001b[39m=\u001b[39;49m\u001b[39m0\u001b[39;49m)\n",
            "File \u001b[1;32m<__array_function__ internals>:179\u001b[0m, in \u001b[0;36maverage\u001b[1;34m(*args, **kwargs)\u001b[0m\n",
            "\u001b[1;31mTypeError\u001b[0m: _average_dispatcher() got multiple values for argument 'axis'"
          ]
        }
      ],
      "source": [
        "# Example 3 - breaking (to illustrate when it breaks)\n",
        "sample = [-21,12,9,4]\n",
        "np.average(sample,[5,3,6,14], axis=0)"
      ]
    },
    {
      "cell_type": "markdown",
      "metadata": {
        "id": "jDfhDOpzGR9i"
      },
      "source": [
        "Explanation about example (why it breaks and how to fix it)"
      ]
    },
    {
      "cell_type": "code",
      "execution_count": 42,
      "metadata": {},
      "outputs": [
        {
          "data": {
            "text/plain": [
              "14.25"
            ]
          },
          "execution_count": 42,
          "metadata": {},
          "output_type": "execute_result"
        }
      ],
      "source": [
        "sample = [-1,12,24,22]\n",
        "np.average(sample)"
      ]
    },
    {
      "cell_type": "markdown",
      "metadata": {
        "id": "ZhMnyD5SGR9i"
      },
      "source": [
        "Some closing comments about when to use this function."
      ]
    },
    {
      "cell_type": "markdown",
      "metadata": {
        "id": "TfRcZC6aGR9i"
      },
      "source": [
        "## Function 3 - np.arange\n",
        "\n",
        "Add some explanations"
      ]
    },
    {
      "cell_type": "code",
      "execution_count": 46,
      "metadata": {
        "id": "JtrKm_6IGR9j"
      },
      "outputs": [
        {
          "data": {
            "text/plain": [
              "array([5, 6, 7, 8, 9])"
            ]
          },
          "execution_count": 46,
          "metadata": {},
          "output_type": "execute_result"
        }
      ],
      "source": [
        "# Example 1 - working\n",
        "np.arange(5,10)"
      ]
    },
    {
      "cell_type": "markdown",
      "metadata": {
        "id": "D8r2wqr5GR9j"
      },
      "source": [
        "Explanation about example"
      ]
    },
    {
      "cell_type": "code",
      "execution_count": 48,
      "metadata": {
        "id": "pdZlVysOGR9j"
      },
      "outputs": [
        {
          "data": {
            "text/plain": [
              "array([ 5,  8, 11, 14])"
            ]
          },
          "execution_count": 48,
          "metadata": {},
          "output_type": "execute_result"
        }
      ],
      "source": [
        "# Example 2 - working\n",
        "np.arange(5,15,3)"
      ]
    },
    {
      "cell_type": "markdown",
      "metadata": {
        "id": "4q0E5GWMGR9j"
      },
      "source": [
        "Explanation about example"
      ]
    },
    {
      "cell_type": "code",
      "execution_count": 49,
      "metadata": {
        "id": "yMHbGoQbGR9j"
      },
      "outputs": [
        {
          "ename": "TypeError",
          "evalue": "unsupported operand type(s) for /: 'int' and 'type'",
          "output_type": "error",
          "traceback": [
            "\u001b[1;31m---------------------------------------------------------------------------\u001b[0m",
            "\u001b[1;31mTypeError\u001b[0m                                 Traceback (most recent call last)",
            "\u001b[1;32mg:\\PG\\Python\\unit-ii-assignment-Praveenkumar11156\\Assignment_II_numpy_array_operations.ipynb Cell 28'\u001b[0m in \u001b[0;36m<cell line: 2>\u001b[1;34m()\u001b[0m\n\u001b[0;32m      <a href='vscode-notebook-cell:/g%3A/PG/Python/unit-ii-assignment-Praveenkumar11156/Assignment_II_numpy_array_operations.ipynb#ch0000027?line=0'>1</a>\u001b[0m \u001b[39m# Example 3 - breaking (to illustrate when it breaks)\u001b[39;00m\n\u001b[1;32m----> <a href='vscode-notebook-cell:/g%3A/PG/Python/unit-ii-assignment-Praveenkumar11156/Assignment_II_numpy_array_operations.ipynb#ch0000027?line=1'>2</a>\u001b[0m np\u001b[39m.\u001b[39;49marange(\u001b[39m5\u001b[39;49m,\u001b[39m15\u001b[39;49m,\u001b[39mstr\u001b[39;49m)\n",
            "\u001b[1;31mTypeError\u001b[0m: unsupported operand type(s) for /: 'int' and 'type'"
          ]
        }
      ],
      "source": [
        "# Example 3 - breaking (to illustrate when it breaks)\n",
        "np.arange(5,15,str)"
      ]
    },
    {
      "cell_type": "markdown",
      "metadata": {
        "id": "pNNg5euiGR9j"
      },
      "source": [
        "Explanation about example (why it breaks and how to fix it)"
      ]
    },
    {
      "cell_type": "code",
      "execution_count": null,
      "metadata": {},
      "outputs": [],
      "source": []
    },
    {
      "cell_type": "code",
      "execution_count": 51,
      "metadata": {},
      "outputs": [
        {
          "data": {
            "text/plain": [
              "array([ 5,  8, 11, 14])"
            ]
          },
          "execution_count": 51,
          "metadata": {},
          "output_type": "execute_result"
        }
      ],
      "source": [
        "np.arange(5,15,3,int)"
      ]
    },
    {
      "cell_type": "markdown",
      "metadata": {
        "id": "5v6apGVJGR9j"
      },
      "source": [
        "Some closing comments about when to use this function."
      ]
    },
    {
      "cell_type": "markdown",
      "metadata": {
        "id": "QXgjSaKFGR9k"
      },
      "source": [
        "## Function 4 - np.squeeze\n",
        "\n",
        "Add some explanations"
      ]
    },
    {
      "cell_type": "code",
      "execution_count": 58,
      "metadata": {
        "id": "9r7duC1LGR9k"
      },
      "outputs": [
        {
          "data": {
            "text/plain": [
              "(1, 6, 2)"
            ]
          },
          "execution_count": 58,
          "metadata": {},
          "output_type": "execute_result"
        }
      ],
      "source": [
        "# Example 1 - working\n",
        "sam_squeeze = np.array([[[3,1],[4,2],[5,3],[6,4],[7,5],[8,6]]])\n",
        "sam_squeeze.shape"
      ]
    },
    {
      "cell_type": "code",
      "execution_count": 59,
      "metadata": {},
      "outputs": [
        {
          "data": {
            "text/plain": [
              "(6, 2)"
            ]
          },
          "execution_count": 59,
          "metadata": {},
          "output_type": "execute_result"
        }
      ],
      "source": [
        "np.squeeze(sam_squeeze, axis=0).shape"
      ]
    },
    {
      "cell_type": "markdown",
      "metadata": {
        "id": "CNWUZIxRGR9k"
      },
      "source": [
        "Explanation about example"
      ]
    },
    {
      "cell_type": "code",
      "execution_count": 60,
      "metadata": {
        "id": "_dBBNHOBGR9k"
      },
      "outputs": [
        {
          "data": {
            "text/plain": [
              "array([[[0, 0],\n",
              "        [1, 1],\n",
              "        [2, 2]]])"
            ]
          },
          "execution_count": 60,
          "metadata": {},
          "output_type": "execute_result"
        }
      ],
      "source": [
        "# Example 2 - working\n",
        "example_squeeze = np.array([[[0,0], [1,1], [2,2]]])\n",
        "example_squeeze"
      ]
    },
    {
      "cell_type": "code",
      "execution_count": 61,
      "metadata": {},
      "outputs": [
        {
          "ename": "ValueError",
          "evalue": "cannot select an axis to squeeze out which has size not equal to one",
          "output_type": "error",
          "traceback": [
            "\u001b[1;31m---------------------------------------------------------------------------\u001b[0m",
            "\u001b[1;31mValueError\u001b[0m                                Traceback (most recent call last)",
            "\u001b[1;32mg:\\PG\\Python\\unit-ii-assignment-Praveenkumar11156\\Assignment_II_numpy_array_operations.ipynb Cell 38'\u001b[0m in \u001b[0;36m<cell line: 1>\u001b[1;34m()\u001b[0m\n\u001b[1;32m----> <a href='vscode-notebook-cell:/g%3A/PG/Python/unit-ii-assignment-Praveenkumar11156/Assignment_II_numpy_array_operations.ipynb#ch0000050?line=0'>1</a>\u001b[0m np\u001b[39m.\u001b[39;49msqueeze(example_squeeze,axis\u001b[39m=\u001b[39;49m\u001b[39m1\u001b[39;49m)\u001b[39m.\u001b[39mshape\n",
            "File \u001b[1;32m<__array_function__ internals>:180\u001b[0m, in \u001b[0;36msqueeze\u001b[1;34m(*args, **kwargs)\u001b[0m\n",
            "File \u001b[1;32m~\\AppData\\Local\\Programs\\Python\\Python38\\lib\\site-packages\\numpy\\core\\fromnumeric.py:1545\u001b[0m, in \u001b[0;36msqueeze\u001b[1;34m(a, axis)\u001b[0m\n\u001b[0;32m   <a href='file:///c%3A/Users/admin/AppData/Local/Programs/Python/Python38/lib/site-packages/numpy/core/fromnumeric.py?line=1542'>1543</a>\u001b[0m     \u001b[39mreturn\u001b[39;00m squeeze()\n\u001b[0;32m   <a href='file:///c%3A/Users/admin/AppData/Local/Programs/Python/Python38/lib/site-packages/numpy/core/fromnumeric.py?line=1543'>1544</a>\u001b[0m \u001b[39melse\u001b[39;00m:\n\u001b[1;32m-> <a href='file:///c%3A/Users/admin/AppData/Local/Programs/Python/Python38/lib/site-packages/numpy/core/fromnumeric.py?line=1544'>1545</a>\u001b[0m     \u001b[39mreturn\u001b[39;00m squeeze(axis\u001b[39m=\u001b[39;49maxis)\n",
            "\u001b[1;31mValueError\u001b[0m: cannot select an axis to squeeze out which has size not equal to one"
          ]
        }
      ],
      "source": [
        "np.squeeze(example_squeeze,axis=1).shape"
      ]
    },
    {
      "cell_type": "markdown",
      "metadata": {
        "id": "W3piuExMGR9k"
      },
      "source": [
        "Explanation about example"
      ]
    },
    {
      "cell_type": "code",
      "execution_count": 62,
      "metadata": {
        "id": "A4gQDXWNGR9k"
      },
      "outputs": [
        {
          "data": {
            "text/plain": [
              "(1, 3, 2)"
            ]
          },
          "execution_count": 62,
          "metadata": {},
          "output_type": "execute_result"
        }
      ],
      "source": [
        "# Example 3 - breaking (to illustrate when it breaks)\n",
        "example_squeeze = np.array([[[0,0], [1,1], [2,2]]])\n",
        "example_squeeze.shape"
      ]
    },
    {
      "cell_type": "code",
      "execution_count": 63,
      "metadata": {},
      "outputs": [
        {
          "data": {
            "text/plain": [
              "(3, 2)"
            ]
          },
          "execution_count": 63,
          "metadata": {},
          "output_type": "execute_result"
        }
      ],
      "source": [
        "np.squeeze(example_squeeze).shape"
      ]
    },
    {
      "cell_type": "markdown",
      "metadata": {
        "id": "dPPU0YZ5GR9l"
      },
      "source": [
        "Explanation about example (why it breaks and how to fix it)"
      ]
    },
    {
      "cell_type": "markdown",
      "metadata": {
        "id": "CsOKLwbKGR9l"
      },
      "source": [
        "Some closing comments about when to use this function."
      ]
    },
    {
      "cell_type": "markdown",
      "metadata": {
        "id": "4Eevnyo0GR9l"
      },
      "source": [
        "## Function 5 - np.vstack\n",
        "\n",
        "Add some explanations"
      ]
    },
    {
      "cell_type": "code",
      "execution_count": 64,
      "metadata": {
        "id": "hWGZ_CjpGR9l"
      },
      "outputs": [
        {
          "data": {
            "text/plain": [
              "array([[65, 32, 87],\n",
              "       [34, 95, 91]])"
            ]
          },
          "execution_count": 64,
          "metadata": {},
          "output_type": "execute_result"
        }
      ],
      "source": [
        "# Example 1 - working\n",
        "arr4 = np.array([65, 32, 87])\n",
        "arr5 = np.array([34, 95, 91])\n",
        "np.vstack((arr4,arr5))"
      ]
    },
    {
      "cell_type": "markdown",
      "metadata": {
        "id": "Gtttw9fWGR9l"
      },
      "source": [
        "Explanation about example"
      ]
    },
    {
      "cell_type": "code",
      "execution_count": 65,
      "metadata": {
        "id": "UWGFeBUQGR9l"
      },
      "outputs": [
        {
          "data": {
            "text/plain": [
              "array([[65],\n",
              "       [32],\n",
              "       [87],\n",
              "       [34],\n",
              "       [95],\n",
              "       [91]])"
            ]
          },
          "execution_count": 65,
          "metadata": {},
          "output_type": "execute_result"
        }
      ],
      "source": [
        "# Example 2 - working\n",
        "arr4 = np.array([[65], [32], [87]])\n",
        "arr5 = np.array([[34], [95], [91]])\n",
        "np.vstack((arr4,arr5))"
      ]
    },
    {
      "cell_type": "markdown",
      "metadata": {
        "id": "8fIRSm0KGR9m"
      },
      "source": [
        "Explanation about example"
      ]
    },
    {
      "cell_type": "code",
      "execution_count": 69,
      "metadata": {
        "id": "BuVqcGg1GR9m"
      },
      "outputs": [
        {
          "ename": "TypeError",
          "evalue": "array() takes from 1 to 2 positional arguments but 3 were given",
          "output_type": "error",
          "traceback": [
            "\u001b[1;31m---------------------------------------------------------------------------\u001b[0m",
            "\u001b[1;31mTypeError\u001b[0m                                 Traceback (most recent call last)",
            "\u001b[1;32mg:\\PG\\Python\\unit-ii-assignment-Praveenkumar11156\\Assignment_II_numpy_array_operations.ipynb Cell 49'\u001b[0m in \u001b[0;36m<cell line: 3>\u001b[1;34m()\u001b[0m\n\u001b[0;32m      <a href='vscode-notebook-cell:/g%3A/PG/Python/unit-ii-assignment-Praveenkumar11156/Assignment_II_numpy_array_operations.ipynb#ch0000043?line=0'>1</a>\u001b[0m \u001b[39m# Example 3 - breaking (to illustrate when it breaks)\u001b[39;00m\n\u001b[0;32m      <a href='vscode-notebook-cell:/g%3A/PG/Python/unit-ii-assignment-Praveenkumar11156/Assignment_II_numpy_array_operations.ipynb#ch0000043?line=1'>2</a>\u001b[0m example_vstack1 \u001b[39m=\u001b[39m np\u001b[39m.\u001b[39marray([[\u001b[39m3\u001b[39m], [\u001b[39m5\u001b[39m], [\u001b[39m7\u001b[39m]])\n\u001b[1;32m----> <a href='vscode-notebook-cell:/g%3A/PG/Python/unit-ii-assignment-Praveenkumar11156/Assignment_II_numpy_array_operations.ipynb#ch0000043?line=2'>3</a>\u001b[0m example_vstack2 \u001b[39m=\u001b[39m np\u001b[39m.\u001b[39;49marray([\u001b[39m5\u001b[39;49m], [\u001b[39m7\u001b[39;49m], [\u001b[39m9\u001b[39;49m])\n\u001b[0;32m      <a href='vscode-notebook-cell:/g%3A/PG/Python/unit-ii-assignment-Praveenkumar11156/Assignment_II_numpy_array_operations.ipynb#ch0000043?line=3'>4</a>\u001b[0m np\u001b[39m.\u001b[39mvstack((example_vstack1,example_vstack2))\n",
            "\u001b[1;31mTypeError\u001b[0m: array() takes from 1 to 2 positional arguments but 3 were given"
          ]
        }
      ],
      "source": [
        "# Example 3 - breaking (to illustrate when it breaks)\n",
        "example_vstack1 = np.array([[3.1], [50], [7.2]])\n",
        "example_vstack2 = np.array([5.8], [7], [9.0])\n",
        "np.vstack((example_vstack1,example_vstack2))"
      ]
    },
    {
      "cell_type": "markdown",
      "metadata": {
        "id": "1XVOIp7kGR9m"
      },
      "source": [
        "Explanation about example (why it breaks and how to fix it)"
      ]
    },
    {
      "cell_type": "code",
      "execution_count": 72,
      "metadata": {},
      "outputs": [
        {
          "data": {
            "text/plain": [
              "array([[ 3.1],\n",
              "       [50. ],\n",
              "       [ 7.2],\n",
              "       [ 5.8],\n",
              "       [ 7. ],\n",
              "       [ 9. ]])"
            ]
          },
          "execution_count": 72,
          "metadata": {},
          "output_type": "execute_result"
        }
      ],
      "source": [
        "example_vstack1 = np.array([[3.1], [50], [7.2]])\n",
        "example_vstack2 = np.array([[5.8], [7], [9.0]])\n",
        "np.vstack((example_vstack1,example_vstack2))"
      ]
    },
    {
      "cell_type": "markdown",
      "metadata": {
        "id": "Va-gXokWGR9m"
      },
      "source": [
        "Some closing comments about when to use this function."
      ]
    }
  ],
  "metadata": {
    "colab": {
      "name": "numpy-array-operations.ipynb",
      "provenance": []
    },
    "kernelspec": {
      "display_name": "Python 3",
      "language": "python",
      "name": "python3"
    },
    "language_info": {
      "codemirror_mode": {
        "name": "ipython",
        "version": 3
      },
      "file_extension": ".py",
      "mimetype": "text/x-python",
      "name": "python",
      "nbconvert_exporter": "python",
      "pygments_lexer": "ipython3",
      "version": "3.8.10"
    }
  },
  "nbformat": 4,
  "nbformat_minor": 0
}
